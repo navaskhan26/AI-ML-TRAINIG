{
 "cells": [
  {
   "cell_type": "code",
   "execution_count": 2,
   "id": "ccd22db4-3a9d-4d0b-8f80-c15dad1802c6",
   "metadata": {},
   "outputs": [],
   "source": [
    "import pandas as pd\n",
    "from sklearn.feature_extraction.text import TfidfVectorizer\n",
    "from sklearn.metrics.pairwise import linear_kernel"
   ]
  },
  {
   "cell_type": "code",
   "execution_count": 3,
   "id": "8e42f645-bb07-4ab6-ada8-b8f3d6cf88ff",
   "metadata": {},
   "outputs": [],
   "source": [
    "# Load the dataset\n",
    "df = pd.read_csv(\"books_test.csv\")  # Ensure columns: 'title', 'description'"
   ]
  },
  {
   "cell_type": "code",
   "execution_count": 4,
   "id": "2f7ed7f9-7c5e-4e53-a409-c9ffbbea86fd",
   "metadata": {},
   "outputs": [],
   "source": [
    "# Fill missing descriptions with empty strings\n",
    "df['description'] = df['description'].fillna(\"\")"
   ]
  },
  {
   "cell_type": "code",
   "execution_count": 5,
   "id": "9873a96c-a6b7-4f5f-868d-9f3663d82d78",
   "metadata": {},
   "outputs": [],
   "source": [
    "# Create the TF-IDF matrix\n",
    "vectorizer = TfidfVectorizer(stop_words='english')\n",
    "tfidf_matrix = vectorizer.fit_transform(df['description'])"
   ]
  },
  {
   "cell_type": "code",
   "execution_count": null,
   "id": "cc71433b-7e71-41a2-b6d2-7292670c168d",
   "metadata": {},
   "outputs": [],
   "source": [
    "# Function to recommend top 3 similar books\n",
    "def recommend_books(input_title, tfidf_matrix=tfidf_matrix):\n",
    "    if input_title not in df['title'].values:\n",
    "        print(f\"'{input_title}' not found in the dataset.\")\n",
    "        return\n",
    "\n",
    "    # Get the index of the input title\n",
    "    idx = df[df['title'] == input_title].index[0]\n",
    "\n",
    "    # Compute cosine similarities\n",
    "    cosine_sim = linear_kernel(tfidf_matrix[idx], tfidf_matrix).flatten()\n",
    "\n",
    "    # Get top 3 similar books excluding the input book itself\n",
    "    similar_indices = cosine_sim.argsort()[-4:-1][::-1]\n",
    "\n",
    "    # Print recommendations\n",
    "    print(f\"\\nTop 3 recommendations for '{input_title}':\")\n",
    "    for i in similar_indices:\n",
    "        print(f\"- {df.iloc[i]['title']}\")\n"
   ]
  }
 ],
 "metadata": {
  "kernelspec": {
   "display_name": "Python 3 (ipykernel)",
   "language": "python",
   "name": "python3"
  },
  "language_info": {
   "codemirror_mode": {
    "name": "ipython",
    "version": 3
   },
   "file_extension": ".py",
   "mimetype": "text/x-python",
   "name": "python",
   "nbconvert_exporter": "python",
   "pygments_lexer": "ipython3",
   "version": "3.13.5"
  }
 },
 "nbformat": 4,
 "nbformat_minor": 5
}
