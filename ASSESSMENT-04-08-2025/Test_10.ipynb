{
 "cells": [
  {
   "cell_type": "code",
   "execution_count": 1,
   "id": "9ea32a5c",
   "metadata": {},
   "outputs": [],
   "source": [
    "from pyspark.sql import SparkSession\n",
    "from pyspark.sql.functions import col, avg\n",
    "\n",
    "# Step 1: Initialize Spark\n",
    "spark = SparkSession.builder.appName(\"StudentScores\").getOrCreate()\n"
   ]
  },
  {
   "cell_type": "code",
   "execution_count": 2,
   "id": "add6f5a4",
   "metadata": {},
   "outputs": [
    {
     "name": "stdout",
     "output_type": "stream",
     "text": [
      " students.csv created successfully!\n",
      "      Name  Math  Science  English\n",
      "0    Alice    90       85       88\n",
      "1      Bob    76       92       81\n",
      "2  Charlie    89       79       95\n",
      "3    David    65       70       60\n",
      "4      Eva    92       88       91\n"
     ]
    }
   ],
   "source": [
    "import pandas as pd\n",
    "\n",
    "# Sample student score data\n",
    "data = {\n",
    "    \"Name\": [\"Alice\", \"Bob\", \"Charlie\", \"David\", \"Eva\"],\n",
    "    \"Math\": [90, 76, 89, 65, 92],\n",
    "    \"Science\": [85, 92, 79, 70, 88],\n",
    "    \"English\": [88, 81, 95, 60, 91]\n",
    "}\n",
    "\n",
    "# Create DataFrame\n",
    "df = pd.DataFrame(data)\n",
    "\n",
    "# Save to CSV\n",
    "df.to_csv(\"students.csv\", index=False)\n",
    "\n",
    "print(\" students.csv created successfully!\")\n",
    "print(df)"
   ]
  },
  {
   "cell_type": "code",
   "execution_count": 3,
   "id": "9191ae3d",
   "metadata": {},
   "outputs": [
    {
     "name": "stdout",
     "output_type": "stream",
     "text": [
      "=== Average Scores Per Subject ===\n",
      "+--------+-----------+-----------+\n",
      "|Avg_Math|Avg_Science|Avg_English|\n",
      "+--------+-----------+-----------+\n",
      "|    82.4|       82.8|       83.0|\n",
      "+--------+-----------+-----------+\n",
      "\n",
      "=== Students with Math > 85 ===\n",
      "+-------+----+-------+-------+\n",
      "|   Name|Math|Science|English|\n",
      "+-------+----+-------+-------+\n",
      "|  Alice|  90|     85|     88|\n",
      "|Charlie|  89|     79|     95|\n",
      "|    Eva|  92|     88|     91|\n",
      "+-------+----+-------+-------+\n",
      "\n"
     ]
    }
   ],
   "source": [
    "# Step 2: Load CSV\n",
    "df = spark.read.csv(\"students.csv\", header=True, inferSchema=True)\n",
    "\n",
    "# Step 3: Calculate average score per subject\n",
    "avg_scores = df.select(\n",
    "    avg(col(\"Math\")).alias(\"Avg_Math\"),\n",
    "    avg(col(\"Science\")).alias(\"Avg_Science\"),\n",
    "    avg(col(\"English\")).alias(\"Avg_English\")\n",
    ")\n",
    "\n",
    "# Step 4: Filter students who scored more than 85 in Math\n",
    "high_math = df.filter(col(\"Math\") > 85)\n",
    "\n",
    "# Step 5: Show results\n",
    "print(\"=== Average Scores Per Subject ===\")\n",
    "avg_scores.show()\n",
    "\n",
    "print(\"=== Students with Math > 85 ===\")\n",
    "high_math.show()\n",
    "\n",
    "# Stop Spark session\n",
    "spark.stop()"
   ]
  },
  {
   "cell_type": "code",
   "execution_count": null,
   "id": "fabd32ed",
   "metadata": {},
   "outputs": [],
   "source": []
  }
 ],
 "metadata": {
  "kernelspec": {
   "display_name": "Python 3",
   "language": "python",
   "name": "python3"
  },
  "language_info": {
   "codemirror_mode": {
    "name": "ipython",
    "version": 3
   },
   "file_extension": ".py",
   "mimetype": "text/x-python",
   "name": "python",
   "nbconvert_exporter": "python",
   "pygments_lexer": "ipython3",
   "version": "3.12.10"
  }
 },
 "nbformat": 4,
 "nbformat_minor": 5
}
