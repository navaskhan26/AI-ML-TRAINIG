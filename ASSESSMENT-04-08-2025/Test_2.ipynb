{
 "cells": [
  {
   "cell_type": "code",
   "execution_count": 2,
   "id": "626bba23",
   "metadata": {},
   "outputs": [
    {
     "name": "stdout",
     "output_type": "stream",
     "text": [
      "Original Matrix:\n",
      " [[2 4 4 8 2]\n",
      " [1 7 8 9 8]\n",
      " [5 8 8 0 7]\n",
      " [6 2 2 1 8]\n",
      " [4 3 0 9 3]]\n",
      "\n",
      "Transformed Matrix:\n",
      " [[0 0 0 0 0]\n",
      " [1 1 0 1 0]\n",
      " [1 0 0 0 1]\n",
      " [0 0 0 1 0]\n",
      " [0 1 0 1 1]]\n"
     ]
    }
   ],
   "source": [
    "import numpy as np\n",
    "\n",
    "# Step 1: Create 5x5 random integer array (0-9)\n",
    "original = np.random.randint(0, 10, (5, 5))\n",
    "\n",
    "# Step 2: Transform array (even -> 0, odd -> 1)\n",
    "transformed = np.where(original % 2 == 0, 0, 1)\n",
    "\n",
    "# Output\n",
    "print(\"Original Matrix:\\n\", original)\n",
    "print(\"\\nTransformed Matrix:\\n\",transformed)"
   ]
  },
  {
   "cell_type": "code",
   "execution_count": null,
   "id": "d9a9518f",
   "metadata": {},
   "outputs": [],
   "source": []
  }
 ],
 "metadata": {
  "kernelspec": {
   "display_name": "Python 3",
   "language": "python",
   "name": "python3"
  },
  "language_info": {
   "codemirror_mode": {
    "name": "ipython",
    "version": 3
   },
   "file_extension": ".py",
   "mimetype": "text/x-python",
   "name": "python",
   "nbconvert_exporter": "python",
   "pygments_lexer": "ipython3",
   "version": "3.12.10"
  }
 },
 "nbformat": 4,
 "nbformat_minor": 5
}
