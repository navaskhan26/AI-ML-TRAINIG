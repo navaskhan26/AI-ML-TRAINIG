{
 "cells": [
  {
   "cell_type": "code",
   "execution_count": 1,
   "id": "e5302583",
   "metadata": {},
   "outputs": [],
   "source": [
    "import pandas as pd\n",
    "\n"
   ]
  },
  {
   "cell_type": "code",
   "execution_count": 3,
   "id": "a04b46cb",
   "metadata": {},
   "outputs": [
    {
     "name": "stdout",
     "output_type": "stream",
     "text": [
      " sales.csv created successfully!\n",
      "        date  sales\n",
      "0 2023-01-01   1926\n",
      "1 2023-01-02   1660\n",
      "2 2023-01-03   1930\n",
      "3 2023-01-04   1895\n",
      "4 2023-01-05   1844\n"
     ]
    }
   ],
   "source": [
    "import pandas as pd\n",
    "import numpy as np\n",
    "\n",
    "# Generate sample sales data for January 2023\n",
    "dates = pd.date_range(start=\"2023-01-01\", end=\"2023-01-31\")\n",
    "np.random.seed(42)\n",
    "sales = np.random.randint(800, 2000, size=len(dates))\n",
    "\n",
    "# Create DataFrame\n",
    "df = pd.DataFrame({\n",
    "    \"date\": dates,\n",
    "    \"sales\": sales\n",
    "})\n",
    "\n",
    "# Save to CSV\n",
    "df.to_csv(\"sales.csv\", index=False)\n",
    "\n",
    "print(\" sales.csv created successfully!\")\n",
    "print(df.head())"
   ]
  },
  {
   "cell_type": "code",
   "execution_count": 4,
   "id": "3f144720",
   "metadata": {},
   "outputs": [
    {
     "name": "stdout",
     "output_type": "stream",
     "text": [
      "=== Average Sales Per Weekday ===\n",
      "  day_of_week    sales\n",
      "1      Monday  1253.60\n",
      "5     Tuesday  1804.20\n",
      "6   Wednesday  1479.00\n",
      "4    Thursday  1660.00\n",
      "0      Friday  1264.75\n",
      "2    Saturday  1182.25\n",
      "3      Sunday  1497.60\n"
     ]
    }
   ],
   "source": [
    "# Step 1: Load dataset\n",
    "df = pd.read_csv(\"sales.csv\", parse_dates=[\"date\"])\n",
    "\n",
    "# Step 2: Create new column for day of week\n",
    "df[\"day_of_week\"] = df[\"date\"].dt.day_name()\n",
    "\n",
    "# Step 3: Calculate average sales per weekday\n",
    "avg_sales = df.groupby(\"day_of_week\")[\"sales\"].mean().reset_index()\n",
    "\n",
    "# Step 4: Sort weekdays in natural order\n",
    "day_order = [\"Monday\", \"Tuesday\", \"Wednesday\", \"Thursday\", \"Friday\", \"Saturday\", \"Sunday\"]\n",
    "avg_sales[\"day_of_week\"] = pd.Categorical(avg_sales[\"day_of_week\"], categories=day_order, ordered=True)\n",
    "avg_sales = avg_sales.sort_values(\"day_of_week\")\n",
    "\n",
    "# Output\n",
    "print(\"=== Average Sales Per Weekday ===\")\n",
    "print(avg_sales)"
   ]
  },
  {
   "cell_type": "code",
   "execution_count": null,
   "id": "2536a81e",
   "metadata": {},
   "outputs": [],
   "source": []
  }
 ],
 "metadata": {
  "kernelspec": {
   "display_name": "Python 3",
   "language": "python",
   "name": "python3"
  },
  "language_info": {
   "codemirror_mode": {
    "name": "ipython",
    "version": 3
   },
   "file_extension": ".py",
   "mimetype": "text/x-python",
   "name": "python",
   "nbconvert_exporter": "python",
   "pygments_lexer": "ipython3",
   "version": "3.12.10"
  }
 },
 "nbformat": 4,
 "nbformat_minor": 5
}
