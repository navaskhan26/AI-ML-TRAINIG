{
 "cells": [
  {
   "cell_type": "code",
   "execution_count": 1,
   "id": "240900f2",
   "metadata": {},
   "outputs": [],
   "source": [
    "import pandas as pd\n",
    "import matplotlib.pyplot as plt"
   ]
  },
  {
   "cell_type": "code",
   "execution_count": 2,
   "id": "30f2b86a",
   "metadata": {},
   "outputs": [
    {
     "name": "stdout",
     "output_type": "stream",
     "text": [
      " supermarket_sales.csv created successfully!\n",
      "  Branch Product  Quantity  Total\n",
      "0      A   Bread        30    120\n",
      "1      A    Milk        25    100\n",
      "2      B   Juice        40    160\n",
      "3      B   Bread        15     60\n",
      "4      C    Eggs        22    110\n"
     ]
    }
   ],
   "source": [
    "import pandas as pd\n",
    "\n",
    "# Sample supermarket sales data\n",
    "data = {\n",
    "    \"Branch\": [\"A\",\"A\",\"B\",\"B\",\"C\",\"C\",\"A\",\"B\",\"C\",\"A\",\"B\",\"C\"],\n",
    "    \"Product\": [\"Bread\",\"Milk\",\"Juice\",\"Bread\",\"Eggs\",\"Milk\",\"Juice\",\"Eggs\",\"Bread\",\"Milk\",\"Juice\",\"Eggs\"],\n",
    "    \"Quantity\": [30,25,40,15,22,18,35,27,20,32,29,24],\n",
    "    \"Total\": [120,100,160,60,110,90,140,130,80,128,116,96]\n",
    "}\n",
    "\n",
    "# Create DataFrame\n",
    "df = pd.DataFrame(data)\n",
    "\n",
    "# Save to CSV\n",
    "df.to_csv(\"supermarket_sales.csv\", index=False)\n",
    "\n",
    "print(\" supermarket_sales.csv created successfully!\")\n",
    "print(df.head())"
   ]
  },
  {
   "cell_type": "code",
   "execution_count": 3,
   "id": "9a1606bd",
   "metadata": {},
   "outputs": [
    {
     "name": "stdout",
     "output_type": "stream",
     "text": [
      "=== Top 3 Most Sold Products ===\n",
      "Product\n",
      "Juice    104\n",
      "Milk      75\n",
      "Eggs      73\n",
      "Name: Quantity, dtype: int64\n"
     ]
    },
    {
     "data": {
      "image/png": "[encoded data removed]",
      "text/plain": [
       "<Figure size 600x400 with 1 Axes>"
      ]
     },
     "metadata": {},
     "output_type": "display_data"
    }
   ],
   "source": [
    "# Step 1: Load dataset\n",
    "df = pd.read_csv(\"supermarket_sales.csv\")\n",
    "\n",
    "# Step 2: Identify top 3 most sold products by quantity\n",
    "top_products = df.groupby(\"Product\")[\"Quantity\"].sum().sort_values(ascending=False).head(3)\n",
    "\n",
    "print(\"=== Top 3 Most Sold Products ===\")\n",
    "print(top_products)\n",
    "\n",
    "# Step 3: Visualize total sales per branch\n",
    "branch_sales = df.groupby(\"Branch\")[\"Total\"].sum()\n",
    "\n",
    "plt.figure(figsize=(6,4))\n",
    "branch_sales.plot(kind=\"bar\", color=\"skyblue\")\n",
    "plt.title(\"Total Sales per Branch\")\n",
    "plt.xlabel(\"Branch\")\n",
    "plt.ylabel(\"Total Sales\")\n",
    "plt.xticks(rotation=0)\n",
    "plt.show()"
   ]
  },
  {
   "cell_type": "code",
   "execution_count": null,
   "id": "173858f0",
   "metadata": {},
   "outputs": [],
   "source": []
  }
 ],
 "metadata": {
  "kernelspec": {
   "display_name": "Python 3",
   "language": "python",
   "name": "python3"
  },
  "language_info": {
   "codemirror_mode": {
    "name": "ipython",
    "version": 3
   },
   "file_extension": ".py",
   "mimetype": "text/x-python",
   "name": "python",
   "nbconvert_exporter": "python",
   "pygments_lexer": "ipython3",
   "version": "3.12.10"
  }
 },
 "nbformat": 4,
 "nbformat_minor": 5
}
