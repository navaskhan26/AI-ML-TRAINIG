{
 "cells": [
  {
   "cell_type": "code",
   "execution_count": 1,
   "id": "d9136ae3",
   "metadata": {},
   "outputs": [],
   "source": [
    "import pandas as pd\n",
    "\n"
   ]
  },
  {
   "cell_type": "code",
   "execution_count": 2,
   "id": "bb45d6f4",
   "metadata": {},
   "outputs": [
    {
     "name": "stdout",
     "output_type": "stream",
     "text": [
      " uber.csv created successfully with 100 sample rides!\n",
      "                       datetime   fare\n",
      "0 2023-01-01 00:00:00.000000000  19.98\n",
      "1 2023-01-01 07:16:21.818181818  43.03\n",
      "2 2023-01-01 14:32:43.636363636  34.28\n",
      "3 2023-01-01 21:49:05.454545454  28.95\n",
      "4 2023-01-02 05:05:27.272727272  11.24\n"
     ]
    }
   ],
   "source": [
    "\n",
    "import pandas as pd\n",
    "import numpy as np\n",
    "\n",
    "# Generate sample Uber ride data\n",
    "np.random.seed(42)\n",
    "\n",
    "# Create 100 random datetime values in January 2023\n",
    "dates = pd.date_range(start=\"2023-01-01\", end=\"2023-01-31\", periods=100)\n",
    "\n",
    "# Random fares between $5 and $45\n",
    "fares = np.random.uniform(5, 45, size=100).round(2)\n",
    "\n",
    "# Create DataFrame\n",
    "df = pd.DataFrame({\n",
    "    \"datetime\": dates,\n",
    "    \"fare\": fares\n",
    "})\n",
    "\n",
    "# Save to CSV\n",
    "df.to_csv(\"uber.csv\", index=False)\n",
    "\n",
    "print(\" uber.csv created successfully with 100 sample rides!\")\n",
    "print(df.head())"
   ]
  },
  {
   "cell_type": "code",
   "execution_count": 3,
   "id": "18bdb576",
   "metadata": {},
   "outputs": [
    {
     "name": "stdout",
     "output_type": "stream",
     "text": [
      "Extracted Columns Sample:\n",
      "                       datetime   fare  hour  day weekday\n",
      "0 2023-01-01 00:00:00.000000000  19.98     0    1  Sunday\n",
      "1 2023-01-01 07:16:21.818181818  43.03     7    1  Sunday\n",
      "2 2023-01-01 14:32:43.636363636  34.28    14    1  Sunday\n",
      "3 2023-01-01 21:49:05.454545454  28.95    21    1  Sunday\n",
      "4 2023-01-02 05:05:27.272727272  11.24     5    2  Monday\n",
      "\n",
      "Summary Statistics:\n",
      "             hour         day        fare\n",
      "count  100.000000  100.000000  100.000000\n",
      "mean    11.070000   15.520000   23.807300\n",
      "std      7.011182    8.794489   11.899838\n",
      "min      0.000000    1.000000    5.220000\n",
      "25%      5.000000    8.000000   12.727500\n",
      "50%     11.000000   15.500000   23.565000\n",
      "75%     17.000000   23.000000   34.205000\n",
      "max     23.000000   31.000000   44.480000\n",
      "\n",
      " Hour with highest average fare: 7\n",
      "\n",
      " Average fare at that hour: 41.25\n"
     ]
    }
   ],
   "source": [
    "# Step 2: Extract hour, day, and weekday\n",
    "df['hour'] = df['datetime'].dt.hour\n",
    "df['day'] = df['datetime'].dt.day\n",
    "df['weekday'] = df['datetime'].dt.day_name()\n",
    "\n",
    "# Step 3: Find the hour with the highest average fare\n",
    "hourly_avg = df.groupby('hour')['fare'].mean().reset_index()\n",
    "peak_hour = hourly_avg.loc[hourly_avg['fare'].idxmax()]\n",
    "\n",
    "# Step 4: Summary statistics\n",
    "print(\"Extracted Columns Sample:\")\n",
    "print(df[['datetime', 'fare', 'hour', 'day', 'weekday']].head())\n",
    "\n",
    "print(\"\\nSummary Statistics:\")\n",
    "print(df[['hour', 'day', 'fare']].describe())\n",
    "\n",
    "print(f\"\\n Hour with highest average fare: {int(peak_hour['hour'])}\")\n",
    "print(f\"\\n Average fare at that hour: {peak_hour['fare']:.2f}\")"
   ]
  },
  {
   "cell_type": "code",
   "execution_count": null,
   "id": "0cdd2316",
   "metadata": {},
   "outputs": [],
   "source": []
  }
 ],
 "metadata": {
  "kernelspec": {
   "display_name": "Python 3",
   "language": "python",
   "name": "python3"
  },
  "language_info": {
   "codemirror_mode": {
    "name": "ipython",
    "version": 3
   },
   "file_extension": ".py",
   "mimetype": "text/x-python",
   "name": "python",
   "nbconvert_exporter": "python",
   "pygments_lexer": "ipython3",
   "version": "3.12.10"
  }
 },
 "nbformat": 4,
 "nbformat_minor": 5
}
