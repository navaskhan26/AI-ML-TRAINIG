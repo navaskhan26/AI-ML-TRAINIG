{
 "cells": [
  {
   "cell_type": "code",
   "execution_count": 1,
   "id": "be500f45-c6b0-4ce3-8865-5178d345c8ca",
   "metadata": {},
   "outputs": [
    {
     "data": {
      "text/html": [
       "<div>\n",
       "<style scoped>\n",
       "    .dataframe tbody tr th:only-of-type {\n",
       "        vertical-align: middle;\n",
       "    }\n",
       "\n",
       "    .dataframe tbody tr th {\n",
       "        vertical-align: top;\n",
       "    }\n",
       "\n",
       "    .dataframe thead th {\n",
       "        text-align: right;\n",
       "    }\n",
       "</style>\n",
       "<table border=\"1\" class=\"dataframe\">\n",
       "  <thead>\n",
       "    <tr style=\"text-align: right;\">\n",
       "      <th></th>\n",
       "      <th>CreditScore</th>\n",
       "      <th>IncomeLevel</th>\n",
       "      <th>LoanAmount</th>\n",
       "      <th>ExistingLoan</th>\n",
       "      <th>Approved</th>\n",
       "    </tr>\n",
       "  </thead>\n",
       "  <tbody>\n",
       "    <tr>\n",
       "      <th>0</th>\n",
       "      <td>High</td>\n",
       "      <td>High</td>\n",
       "      <td>Low</td>\n",
       "      <td>No</td>\n",
       "      <td>Yes</td>\n",
       "    </tr>\n",
       "    <tr>\n",
       "      <th>1</th>\n",
       "      <td>Low</td>\n",
       "      <td>Medium</td>\n",
       "      <td>High</td>\n",
       "      <td>Yes</td>\n",
       "      <td>No</td>\n",
       "    </tr>\n",
       "    <tr>\n",
       "      <th>2</th>\n",
       "      <td>Medium</td>\n",
       "      <td>High</td>\n",
       "      <td>Medium</td>\n",
       "      <td>No</td>\n",
       "      <td>Yes</td>\n",
       "    </tr>\n",
       "    <tr>\n",
       "      <th>3</th>\n",
       "      <td>Low</td>\n",
       "      <td>Low</td>\n",
       "      <td>Medium</td>\n",
       "      <td>Yes</td>\n",
       "      <td>No</td>\n",
       "    </tr>\n",
       "    <tr>\n",
       "      <th>4</th>\n",
       "      <td>High</td>\n",
       "      <td>Medium</td>\n",
       "      <td>Low</td>\n",
       "      <td>No</td>\n",
       "      <td>Yes</td>\n",
       "    </tr>\n",
       "  </tbody>\n",
       "</table>\n",
       "</div>"
      ],
      "text/plain": [
       "  CreditScore IncomeLevel LoanAmount ExistingLoan Approved\n",
       "0        High        High        Low           No      Yes\n",
       "1         Low      Medium       High          Yes       No\n",
       "2      Medium        High     Medium           No      Yes\n",
       "3         Low         Low     Medium          Yes       No\n",
       "4        High      Medium        Low           No      Yes"
      ]
     },
     "execution_count": 1,
     "metadata": {},
     "output_type": "execute_result"
    }
   ],
   "source": [
    "import pandas as pd\n",
    "import numpy as np\n",
    "from math import log2\n",
    "\n",
    "# Manually defining the dataset from the question\n",
    "data = pd.DataFrame({\n",
    "    'CreditScore': ['High', 'Low', 'Medium', 'Low', 'High'],\n",
    "    'IncomeLevel': ['High', 'Medium', 'High', 'Low', 'Medium'],\n",
    "    'LoanAmount': ['Low', 'High', 'Medium', 'Medium', 'Low'],\n",
    "    'ExistingLoan': ['No', 'Yes', 'No', 'Yes', 'No'],\n",
    "    'Approved': ['Yes', 'No', 'Yes', 'No', 'Yes']\n",
    "})\n",
    "\n",
    "data"
   ]
  },
  {
   "cell_type": "code",
   "execution_count": 2,
   "id": "e90707e3-663f-4bb9-8deb-4d7401088a54",
   "metadata": {},
   "outputs": [
    {
     "name": "stdout",
     "output_type": "stream",
     "text": [
      "Entropy of Approved: 0.9710\n"
     ]
    }
   ],
   "source": [
    "# Entropy calculation function\n",
    "def entropy(column):\n",
    "    values, counts = np.unique(column, return_counts=True)\n",
    "    entropy_value = -np.sum([(counts[i]/np.sum(counts)) * log2(counts[i]/np.sum(counts)) for i in range(len(values))])\n",
    "    return entropy_value\n",
    "\n",
    "# Entropy of the target (Approved)\n",
    "target_entropy = entropy(data['Approved'])\n",
    "print(f\"Entropy of Approved: {target_entropy:.4f}\")\n"
   ]
  },
  {
   "cell_type": "code",
   "execution_count": 3,
   "id": "7f29f642-561c-4736-b17c-2bf622817e04",
   "metadata": {},
   "outputs": [
    {
     "name": "stdout",
     "output_type": "stream",
     "text": [
      "Information Gain for CreditScore: 0.9710\n",
      "Information Gain for IncomeLevel: 0.5710\n",
      "Information Gain for LoanAmount: 0.5710\n",
      "Information Gain for ExistingLoan: 0.9710\n"
     ]
    }
   ],
   "source": [
    "# Information Gain function\n",
    "def info_gain(data, feature, target='Approved'):\n",
    "    total_entropy = entropy(data[target])\n",
    "    values, counts = np.unique(data[feature], return_counts=True)\n",
    "\n",
    "    weighted_entropy = np.sum([\n",
    "        (counts[i] / np.sum(counts)) * entropy(data.where(data[feature] == values[i]).dropna()[target])\n",
    "        for i in range(len(values))\n",
    "    ])\n",
    "\n",
    "    gain = total_entropy - weighted_entropy\n",
    "    return gain\n",
    "\n",
    "# Calculate info gain for each feature\n",
    "for column in data.columns[:-1]:  # skip 'Approved'\n",
    "    gain = info_gain(data, column)\n",
    "    print(f\"Information Gain for {column}: {gain:.4f}\")\n"
   ]
  },
  {
   "cell_type": "code",
   "execution_count": 4,
   "id": "67ce751f-906e-4b6e-929e-4c1f88f0aa10",
   "metadata": {},
   "outputs": [
    {
     "name": "stdout",
     "output_type": "stream",
     "text": [
      "Decision Tree:\n",
      "{'CreditScore': {'High': 'Yes', 'Low': 'No', 'Medium': 'Yes'}}\n"
     ]
    }
   ],
   "source": [
    "# ID3 Algorithm: simplified version\n",
    "def id3(data, original_data, features, target='Approved', parent_node_class=None):\n",
    "    from collections import Counter\n",
    "\n",
    "    # If all target values have same class, return that\n",
    "    if len(np.unique(data[target])) <= 1:\n",
    "        return np.unique(data[target])[0]\n",
    "    \n",
    "    # If no more features to split\n",
    "    elif len(data) == 0:\n",
    "        return np.unique(original_data[target])[np.argmax(np.unique(original_data[target], return_counts=True)[1])]\n",
    "\n",
    "    elif len(features) == 0:\n",
    "        return parent_node_class\n",
    "\n",
    "    else:\n",
    "        parent_node_class = np.unique(data[target])[np.argmax(np.unique(data[target], return_counts=True)[1])]\n",
    "\n",
    "        # Find the best feature\n",
    "        gains = [info_gain(data, feature, target) for feature in features]\n",
    "        best_feature = features[np.argmax(gains)]\n",
    "\n",
    "        tree = {best_feature: {}}\n",
    "        features = [f for f in features if f != best_feature]\n",
    "\n",
    "        for value in np.unique(data[best_feature]):\n",
    "            subset = data.where(data[best_feature] == value).dropna()\n",
    "            subtree = id3(subset, data, features, target, parent_node_class)\n",
    "            tree[best_feature][value] = subtree\n",
    "\n",
    "        return tree\n",
    "\n",
    "# Build the tree\n",
    "features = list(data.columns)\n",
    "features.remove('Approved')\n",
    "\n",
    "tree = id3(data, data, features)\n",
    "print(\"Decision Tree:\")\n",
    "import pprint\n",
    "pprint.pprint(tree)\n"
   ]
  },
  {
   "cell_type": "code",
   "execution_count": null,
   "id": "2be7e176-457e-4842-8c81-d922fd8206c6",
   "metadata": {},
   "outputs": [],
   "source": []
  }
 ],
 "metadata": {
  "kernelspec": {
   "display_name": "Python 3 (ipykernel)",
   "language": "python",
   "name": "python3"
  },
  "language_info": {
   "codemirror_mode": {
    "name": "ipython",
    "version": 3
   },
   "file_extension": ".py",
   "mimetype": "text/x-python",
   "name": "python",
   "nbconvert_exporter": "python",
   "pygments_lexer": "ipython3",
   "version": "3.13.5"
  }
 },
 "nbformat": 4,
 "nbformat_minor": 5
}
