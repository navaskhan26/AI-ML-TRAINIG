{
 "cells": [
  {
   "cell_type": "code",
   "execution_count": 1,
   "id": "0e897897-7a64-498d-b810-aaae800c90da",
   "metadata": {},
   "outputs": [],
   "source": [
    "import pandas as pd\n",
    "import numpy as np\n",
    "from math import log2\n",
    "from pprint import pprint"
   ]
  },
  {
   "cell_type": "code",
   "execution_count": 2,
   "id": "b021c722-ee79-4d1c-a67b-bc98e9abe119",
   "metadata": {},
   "outputs": [],
   "source": [
    "# --- Step 1: Define the Dataset ---\n",
    "data = pd.DataFrame({\n",
    "    'JobSatisfaction': ['High', 'Low', 'Medium', 'Low', 'High'],\n",
    "    'WorkLifeBalance': ['Good', 'Poor', 'Good', 'Poor', 'Excellent'],\n",
    "    'YearsAtCompany': [5, 2, 3, 1, 6],\n",
    "    'Overtime': ['No', 'Yes', 'No', 'Yes', 'No'],\n",
    "    'Attrition': ['No', 'Yes', 'No', 'Yes', 'No']\n",
    "})"
   ]
  },
  {
   "cell_type": "code",
   "execution_count": 3,
   "id": "42468fa4-b9e1-47db-999d-49a9af211b05",
   "metadata": {},
   "outputs": [],
   "source": [
    "# --- Step 2: Entropy Calculation ---\n",
    "def entropy(column):\n",
    "    values, counts = np.unique(column, return_counts=True)\n",
    "    entropy_val = -np.sum([(counts[i]/np.sum(counts)) * log2(counts[i]/np.sum(counts))\n",
    "                           for i in range(len(values))])\n",
    "    return entropy_val\n"
   ]
  },
  {
   "cell_type": "code",
   "execution_count": 4,
   "id": "0facc66c-4173-4684-92f1-c906f9df4295",
   "metadata": {},
   "outputs": [],
   "source": [
    "# --- Step 3: Information Gain ---\n",
    "def info_gain(data, feature, target='Attrition'):\n",
    "    total_entropy = entropy(data[target])\n",
    "    values, counts = np.unique(data[feature], return_counts=True)\n",
    "\n",
    "    weighted_entropy = np.sum([\n",
    "        (counts[i] / np.sum(counts)) *\n",
    "        entropy(data[data[feature] == values[i]][target])\n",
    "        for i in range(len(values))\n",
    "    ])\n",
    "\n",
    "    return total_entropy - weighted_entropy\n"
   ]
  },
  {
   "cell_type": "code",
   "execution_count": 5,
   "id": "8d7d52dc-4d1b-4abc-862b-2088120153ce",
   "metadata": {},
   "outputs": [],
   "source": [
    "# --- Step 4: ID3 Algorithm (Recursive Tree Builder) ---\n",
    "def id3(data, original_data, features, target='Attrition', parent_class=None):\n",
    "    target_values = data[target]\n",
    "    \n",
    "    # If all instances have the same target label\n",
    "    if len(np.unique(target_values)) <= 1:\n",
    "        return target_values.iloc[0]\n",
    "\n",
    "    # If dataset is empty\n",
    "    elif len(data) == 0:\n",
    "        return parent_class\n",
    "\n",
    "    # If no more features to split\n",
    "    elif len(features) == 0:\n",
    "        return np.unique(target_values)[np.argmax(np.unique(target_values, return_counts=True)[1])]\n",
    "\n",
    "    # Else, compute best feature to split\n",
    "    else:\n",
    "        parent_class = np.unique(target_values)[np.argmax(np.unique(target_values, return_counts=True)[1])]\n",
    "        gains = [info_gain(data, f, target) for f in features]\n",
    "        best_feature = features[np.argmax(gains)]\n",
    "\n",
    "        tree = {best_feature: {}}\n",
    "        remaining_features = [f for f in features if f != best_feature]\n",
    "\n",
    "        for value in np.unique(data[best_feature]):\n",
    "            sub_data = data[data[best_feature] == value]\n",
    "            subtree = id3(sub_data, data, remaining_features, target, parent_class)\n",
    "            tree[best_feature][value] = subtree\n",
    "\n",
    "        return tree\n"
   ]
  },
  {
   "cell_type": "code",
   "execution_count": 6,
   "id": "77e52563-86f6-44cc-973c-b942e008a2f0",
   "metadata": {},
   "outputs": [
    {
     "name": "stdout",
     "output_type": "stream",
     "text": [
      "Entropy of Attrition: 0.97095\n",
      "\n",
      "Information Gain:\n",
      "JobSatisfaction: 0.97095\n",
      "WorkLifeBalance: 0.97095\n",
      "YearsAtCompany: 0.97095\n",
      "Overtime: 0.97095\n"
     ]
    }
   ],
   "source": [
    "# --- Step 5: Compute Entropy and Information Gain ---\n",
    "target_entropy = entropy(data['Attrition'])\n",
    "print(\"Entropy of Attrition:\", round(target_entropy, 5))\n",
    "\n",
    "# Info gain for each feature\n",
    "features = ['JobSatisfaction', 'WorkLifeBalance', 'YearsAtCompany', 'Overtime']\n",
    "info_gains = {f: info_gain(data, f, 'Attrition') for f in features}\n",
    "\n",
    "print(\"\\nInformation Gain:\")\n",
    "for k, v in info_gains.items():\n",
    "    print(f\"{k}: {round(v, 5)}\")\n"
   ]
  },
  {
   "cell_type": "code",
   "execution_count": 7,
   "id": "6f1fea88-9227-41f9-9c1f-e76c9624555a",
   "metadata": {},
   "outputs": [
    {
     "name": "stdout",
     "output_type": "stream",
     "text": [
      "\n",
      "Final Decision Tree:\n",
      "{'JobSatisfaction': {'High': 'No', 'Low': 'Yes', 'Medium': 'No'}}\n"
     ]
    }
   ],
   "source": [
    "# --- Step 6: Build and Display the Decision Tree ---\n",
    "decision_tree = id3(data, data, features, 'Attrition')\n",
    "print(\"\\nFinal Decision Tree:\")\n",
    "pprint(decision_tree)"
   ]
  },
  {
   "cell_type": "code",
   "execution_count": 8,
   "id": "8eac5b8b-e0c3-4396-95c5-89a6537d4085",
   "metadata": {},
   "outputs": [],
   "source": [
    "# --- Step 7: Test Prediction Function ---\n",
    "def predict(tree, sample):\n",
    "    for key in tree.keys():\n",
    "        value = sample.get(key)\n",
    "        if value in tree[key]:\n",
    "            result = tree[key][value]\n",
    "            if isinstance(result, dict):\n",
    "                return predict(result, sample)\n",
    "            else:\n",
    "                return result\n",
    "        else:\n",
    "            return \"Unknown\""
   ]
  },
  {
   "cell_type": "code",
   "execution_count": 9,
   "id": "7bbf660a-ba66-42f1-b76f-2f89d499627e",
   "metadata": {},
   "outputs": [
    {
     "name": "stdout",
     "output_type": "stream",
     "text": [
      "\n",
      "Prediction for new employee: Yes\n"
     ]
    }
   ],
   "source": [
    "# Test with new employee\n",
    "sample_employee = {\n",
    "    'JobSatisfaction': 'Low',\n",
    "    'WorkLifeBalance': 'Poor',\n",
    "    'YearsAtCompany': 2,\n",
    "    'Overtime': 'Yes'\n",
    "}\n",
    "\n",
    "print(\"\\nPrediction for new employee:\", predict(decision_tree, sample_employee))\n"
   ]
  }
 ],
 "metadata": {
  "kernelspec": {
   "display_name": "Python 3 (ipykernel)",
   "language": "python",
   "name": "python3"
  },
  "language_info": {
   "codemirror_mode": {
    "name": "ipython",
    "version": 3
   },
   "file_extension": ".py",
   "mimetype": "text/x-python",
   "name": "python",
   "nbconvert_exporter": "python",
   "pygments_lexer": "ipython3",
   "version": "3.13.5"
  }
 },
 "nbformat": 4,
 "nbformat_minor": 5
}
