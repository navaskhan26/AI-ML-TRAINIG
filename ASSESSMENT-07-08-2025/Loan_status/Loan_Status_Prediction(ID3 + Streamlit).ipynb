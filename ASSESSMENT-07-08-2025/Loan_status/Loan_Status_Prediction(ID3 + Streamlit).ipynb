{
 "cells": [
  {
   "cell_type": "code",
   "execution_count": 1,
   "id": "2fc08ad1-5357-4e71-ba88-2448b9012f76",
   "metadata": {},
   "outputs": [],
   "source": [
    "import pandas as pd\n",
    "import numpy as np\n",
    "from collections import Counter\n",
    "import math"
   ]
  },
  {
   "cell_type": "code",
   "execution_count": 2,
   "id": "d76c9e9c-3d62-4c99-bcf1-ab6a2cb3cbab",
   "metadata": {},
   "outputs": [],
   "source": [
    "#Load the Dataset\n",
    "data = pd.DataFrame([\n",
    "    ['A1', 'Good', 'Salaried', 'High', 'Yes', 'Approved'],\n",
    "    ['A2', 'Poor', 'Self-Employed', 'Low', 'No', 'Rejected'],\n",
    "    ['A3', 'Good', 'Self-Employed', 'High', 'Yes', 'Approved'],\n",
    "    ['A4', 'Average', 'Salaried', 'Medium', 'No', 'Approved'],\n",
    "    ['A5', 'Poor', 'Salaried', 'Low', 'No', 'Rejected'],\n",
    "    ['A6', 'Good', 'Salaried', 'Medium', 'Yes', 'Approved'],\n",
    "    ['A7', 'Average', 'Self-Employed', 'Medium', 'Yes', 'Approved'],\n",
    "    ['A8', 'Poor', 'Salaried', 'Low', 'No', 'Rejected'],\n",
    "    ['A9', 'Good', 'Salaried', 'High', 'Yes', 'Approved'],\n",
    "    ['A10', 'Average', 'Self-Employed', 'Medium', 'No', 'Rejected']\n",
    "], columns=['ID', 'CreditScore', 'EmploymentType', 'IncomeLevel', 'Collateral', 'LoanStatus'])\n",
    "\n",
    "features = ['CreditScore', 'EmploymentType', 'IncomeLevel', 'Collateral']\n"
   ]
  },
  {
   "cell_type": "code",
   "execution_count": 3,
   "id": "3b8cc854-a33c-4a9c-9309-2146c7bcec85",
   "metadata": {},
   "outputs": [
    {
     "name": "stdout",
     "output_type": "stream",
     "text": [
      "Entropy of LoanStatus: 0.971\n"
     ]
    }
   ],
   "source": [
    "#Entropy Calculation\n",
    "def entropy(class_column):\n",
    "    counts = Counter(class_column)\n",
    "    total = len(class_column)\n",
    "    return -sum((count/total) * math.log2(count/total) for count in counts.values())\n",
    "\n",
    "# Compute total entropy\n",
    "target_entropy = entropy(data['LoanStatus'])\n",
    "print(\"Entropy of LoanStatus:\", round(target_entropy, 4))\n"
   ]
  },
  {
   "cell_type": "code",
   "execution_count": 4,
   "id": "e1499f12-ab43-474b-b358-c1a9a2402e13",
   "metadata": {},
   "outputs": [
    {
     "name": "stdout",
     "output_type": "stream",
     "text": [
      "\n",
      "Information Gain for each feature:\n",
      "- CreditScore: 0.6955\n",
      "- EmploymentType: 0.02\n",
      "- IncomeLevel: 0.6464\n",
      "- Collateral: 0.61\n"
     ]
    }
   ],
   "source": [
    "#Information Gain\n",
    "def info_gain(df, attribute, target):\n",
    "    total_entropy = entropy(df[target])\n",
    "    values = df[attribute].unique()\n",
    "    weighted_entropy = 0\n",
    "\n",
    "    for val in values:\n",
    "        subset = df[df[attribute] == val]\n",
    "        weighted_entropy += (len(subset) / len(df)) * entropy(subset[target])\n",
    "\n",
    "    return total_entropy - weighted_entropy\n",
    "\n",
    "# Calculate Information Gain for all features\n",
    "gains = {feature: info_gain(data, feature, 'LoanStatus') for feature in features}\n",
    "print(\"\\nInformation Gain for each feature:\")\n",
    "for k, v in gains.items():\n",
    "    print(f\"- {k}: {round(v, 4)}\")\n"
   ]
  },
  {
   "cell_type": "code",
   "execution_count": 5,
   "id": "5dcc9d33-8e39-4594-a747-56c260f1846f",
   "metadata": {},
   "outputs": [
    {
     "name": "stdout",
     "output_type": "stream",
     "text": [
      "\n",
      "🌳 Decision Tree:\n",
      "{'CreditScore': {'Average': {'EmploymentType': {'Salaried': 'Approved',\n",
      "                                                'Self-Employed': {'Collateral': {'No': 'Rejected',\n",
      "                                                                                 'Yes': 'Approved'}}}},\n",
      "                 'Good': 'Approved',\n",
      "                 'Poor': 'Rejected'}}\n"
     ]
    }
   ],
   "source": [
    "#Build Decision Tree (ID3 Algorithm)\n",
    "def id3(df, features, target):\n",
    "    labels = df[target]\n",
    "    \n",
    "    if len(set(labels)) == 1:\n",
    "        return labels.iloc[0]\n",
    "    \n",
    "    if not features:\n",
    "        return labels.mode()[0]\n",
    "\n",
    "    gains = {feature: info_gain(df, feature, target) for feature in features}\n",
    "    best_feature = max(gains, key=gains.get)\n",
    "\n",
    "    tree = {best_feature: {}}\n",
    "    for val in df[best_feature].unique():\n",
    "        subset = df[df[best_feature] == val]\n",
    "        subtree = id3(subset, [f for f in features if f != best_feature], target)\n",
    "        tree[best_feature][val] = subtree\n",
    "\n",
    "    return tree\n",
    "\n",
    "tree = id3(data, features, 'LoanStatus')\n",
    "\n",
    "import pprint\n",
    "print(\"\\n🌳 Decision Tree:\")\n",
    "pprint.pprint(tree)\n"
   ]
  },
  {
   "cell_type": "code",
   "execution_count": 6,
   "id": "086cb615-92e6-4a2b-9de9-858c00fac497",
   "metadata": {},
   "outputs": [],
   "source": [
    "#Prediction Function#\n",
    "def predict(tree, sample):\n",
    "    if not isinstance(tree, dict):\n",
    "        return tree\n",
    "    root = next(iter(tree))\n",
    "    value = sample.get(root)\n",
    "    subtree = tree[root].get(value)\n",
    "    if isinstance(subtree, dict):\n",
    "        return predict(subtree, sample)\n",
    "    else:\n",
    "        return subtree if subtree else \"Unknown\"\n"
   ]
  },
  {
   "cell_type": "code",
   "execution_count": 7,
   "id": "0cddb3a9-172c-4ef7-87ec-de6f0ed4f2bc",
   "metadata": {},
   "outputs": [
    {
     "name": "stdout",
     "output_type": "stream",
     "text": [
      "\n",
      " Prediction for sample:\n",
      "{'CreditScore': 'Good', 'EmploymentType': 'Salaried', 'IncomeLevel': 'High', 'Collateral': 'Yes'}\n",
      "Loan Status Prediction: Approved\n"
     ]
    }
   ],
   "source": [
    "# Example test case\n",
    "sample = {\n",
    "    'CreditScore': 'Good',\n",
    "    'EmploymentType': 'Salaried',\n",
    "    'IncomeLevel': 'High',\n",
    "    'Collateral': 'Yes'\n",
    "}\n",
    "\n",
    "print(\"\\n Prediction for sample:\")\n",
    "print(sample)\n",
    "print(\"Loan Status Prediction:\", predict(tree, sample))"
   ]
  },
  {
   "cell_type": "code",
   "execution_count": 8,
   "id": "031a0042-4411-43ac-b021-92ae179df565",
   "metadata": {},
   "outputs": [],
   "source": [
    "import pickle\n",
    "\n",
    "with open(\"loan_status.pkl\", \"wb\") as file:\n",
    "    pickle.dump(tree, file)"
   ]
  }
 ],
 "metadata": {
  "kernelspec": {
   "display_name": "Python 3 (ipykernel)",
   "language": "python",
   "name": "python3"
  },
  "language_info": {
   "codemirror_mode": {
    "name": "ipython",
    "version": 3
   },
   "file_extension": ".py",
   "mimetype": "text/x-python",
   "name": "python",
   "nbconvert_exporter": "python",
   "pygments_lexer": "ipython3",
   "version": "3.13.5"
  }
 },
 "nbformat": 4,
 "nbformat_minor": 5
}
