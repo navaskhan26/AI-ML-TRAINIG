{
 "cells": [
  {
   "cell_type": "code",
   "execution_count": 1,
   "id": "ed64342d-4c40-410c-924c-0c29795d0db0",
   "metadata": {},
   "outputs": [
    {
     "name": "stdout",
     "output_type": "stream",
     "text": [
      "Average Monthly Revenue: 350.0\n"
     ]
    }
   ],
   "source": [
    "import pandas as pd\n",
    "\n",
    "# Sample data\n",
    "data = {\n",
    "    'date': ['2023-01-01', '2023-01-02', '2023-01-31',\n",
    "             '2023-02-01', '2023-02-15', '2023-03-01'],\n",
    "    'revenue': [100, 150, 120, 200, 180, 300]\n",
    "}\n",
    "\n",
    "df = pd.DataFrame(data)\n",
    "df['date'] = pd.to_datetime(df['date'])\n",
    "df.set_index('date', inplace=True)\n",
    "\n",
    "# Updated resample frequency to 'ME'\n",
    "monthly_revenue = df.resample('ME').sum()\n",
    "\n",
    "# Calculate average monthly revenue\n",
    "average_monthly_revenue = monthly_revenue['revenue'].mean()\n",
    "print(\"Average Monthly Revenue:\", average_monthly_revenue)"
   ]
  },
  {
   "cell_type": "code",
   "execution_count": null,
   "id": "abb594c8-4753-4193-a7b7-761076570c53",
   "metadata": {},
   "outputs": [],
   "source": []
  }
 ],
 "metadata": {
  "kernelspec": {
   "display_name": "Python 3 (ipykernel)",
   "language": "python",
   "name": "python3"
  },
  "language_info": {
   "codemirror_mode": {
    "name": "ipython",
    "version": 3
   },
   "file_extension": ".py",
   "mimetype": "text/x-python",
   "name": "python",
   "nbconvert_exporter": "python",
   "pygments_lexer": "ipython3",
   "version": "3.13.5"
  }
 },
 "nbformat": 4,
 "nbformat_minor": 5
}
