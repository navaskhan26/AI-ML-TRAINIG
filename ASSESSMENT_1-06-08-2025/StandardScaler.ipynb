{
 "cells": [
  {
   "cell_type": "code",
   "execution_count": 1,
   "id": "87389102-c758-4b10-99e0-fc85014efec7",
   "metadata": {},
   "outputs": [
    {
     "name": "stdout",
     "output_type": "stream",
     "text": [
      "Original Data:\n",
      "    Height  Weight  Age\n",
      "0     150      50   25\n",
      "1     160      60   30\n",
      "2     170      70   35\n",
      "3     180      80   40\n",
      "4     190      90   45\n"
     ]
    }
   ],
   "source": [
    "#Import libraries\n",
    "import pandas as pd\n",
    "from sklearn.preprocessing import StandardScaler\n",
    "\n",
    "#Step 1: Sample dataset\n",
    "data = {\n",
    "    'Height': [150, 160, 170, 180, 190],\n",
    "    'Weight': [50, 60, 70, 80, 90],\n",
    "    'Age': [25, 30, 35, 40, 45]\n",
    "}\n",
    "\n",
    "df = pd.DataFrame(data)\n",
    "print(\"Original Data:\\n\", df)"
   ]
  },
  {
   "cell_type": "code",
   "execution_count": 2,
   "id": "af0512bb-3cbe-4fe3-8a6a-b57eb09facc1",
   "metadata": {},
   "outputs": [
    {
     "name": "stdout",
     "output_type": "stream",
     "text": [
      "\n",
      "Scaled Data:\n",
      "      Height    Weight       Age\n",
      "0 -1.414214 -1.414214 -1.414214\n",
      "1 -0.707107 -0.707107 -0.707107\n",
      "2  0.000000  0.000000  0.000000\n",
      "3  0.707107  0.707107  0.707107\n",
      "4  1.414214  1.414214  1.414214\n"
     ]
    }
   ],
   "source": [
    "# Step 2: Initialize StandardScaler\n",
    "scaler = StandardScaler()\n",
    "\n",
    "#Step 3: Fit and transform the data\n",
    "scaled_array = scaler.fit_transform(df)\n",
    "\n",
    "#Step 4: Convert back to DataFrame\n",
    "scaled_df = pd.DataFrame(scaled_array, columns=df.columns)\n",
    "print(\"\\nScaled Data:\\n\", scaled_df)\n"
   ]
  }
 ],
 "metadata": {
  "kernelspec": {
   "display_name": "Python 3 (ipykernel)",
   "language": "python",
   "name": "python3"
  },
  "language_info": {
   "codemirror_mode": {
    "name": "ipython",
    "version": 3
   },
   "file_extension": ".py",
   "mimetype": "text/x-python",
   "name": "python",
   "nbconvert_exporter": "python",
   "pygments_lexer": "ipython3",
   "version": "3.13.5"
  }
 },
 "nbformat": 4,
 "nbformat_minor": 5
}
