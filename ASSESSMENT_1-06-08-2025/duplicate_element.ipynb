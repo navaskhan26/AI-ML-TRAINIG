{
 "cells": [
  {
   "cell_type": "code",
   "execution_count": 1,
   "id": "33c8688b-2133-429b-bc0b-8b10b8c96bda",
   "metadata": {},
   "outputs": [
    {
     "name": "stdout",
     "output_type": "stream",
     "text": [
      "[False False False  True  True False  True]\n"
     ]
    }
   ],
   "source": [
    "import numpy as np\n",
    "\n",
    "arr = np.array([1, 2, 3, 2, 3, 4, 1])\n",
    "\n",
    "# Check if element has already appeared before (i.e., is a duplicate)\n",
    "duplicates = np.zeros_like(arr, dtype=bool)\n",
    "\n",
    "for i in range(1, len(arr)):\n",
    "    duplicates[i] = arr[i] in arr[:i]\n",
    "\n",
    "print(duplicates)"
   ]
  },
  {
   "cell_type": "code",
   "execution_count": null,
   "id": "467cd2b3-df2d-4a91-bb59-30a07ce97273",
   "metadata": {},
   "outputs": [],
   "source": []
  }
 ],
 "metadata": {
  "kernelspec": {
   "display_name": "Python 3 (ipykernel)",
   "language": "python",
   "name": "python3"
  },
  "language_info": {
   "codemirror_mode": {
    "name": "ipython",
    "version": 3
   },
   "file_extension": ".py",
   "mimetype": "text/x-python",
   "name": "python",
   "nbconvert_exporter": "python",
   "pygments_lexer": "ipython3",
   "version": "3.13.5"
  }
 },
 "nbformat": 4,
 "nbformat_minor": 5
}
