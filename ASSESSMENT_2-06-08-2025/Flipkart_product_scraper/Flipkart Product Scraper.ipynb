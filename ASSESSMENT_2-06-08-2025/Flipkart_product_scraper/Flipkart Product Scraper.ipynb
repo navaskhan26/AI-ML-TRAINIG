{
 "cells": [
  {
   "cell_type": "code",
   "execution_count": 1,
   "id": "0d1b0b9d-52a1-4fa5-af66-3ebc72e78a1d",
   "metadata": {},
   "outputs": [],
   "source": [
    "#!pip install selenium pandas beautifulsoup4"
   ]
  },
  {
   "cell_type": "code",
   "execution_count": 2,
   "id": "c9dc229a-0f8b-4490-9f45-c40b3379d790",
   "metadata": {},
   "outputs": [
    {
     "name": "stdin",
     "output_type": "stream",
     "text": [
      "Enter product search keyword:  laptops\n"
     ]
    },
    {
     "name": "stdout",
     "output_type": "stream",
     "text": [
      "Scraping Page 1...\n",
      "Scraping Page 2...\n",
      "Scraping Page 3...\n",
      "\n",
      "✅ Scraped Data:\n",
      "\n",
      "Empty DataFrame\n",
      "Columns: [Product Name, Price (INR), Rating]\n",
      "Index: []\n",
      "\n",
      "✅ Data saved to 'flipkart_products.csv'\n"
     ]
    }
   ],
   "source": [
    "from selenium import webdriver\n",
    "from selenium.webdriver.chrome.options import Options\n",
    "from bs4 import BeautifulSoup\n",
    "import pandas as pd\n",
    "import time\n",
    "\n",
    "# Setup Chrome browser in headless mode\n",
    "options = Options()\n",
    "options.add_argument(\"--headless\")\n",
    "options.add_argument(\"--disable-gpu\")\n",
    "options.add_argument(\"--window-size=1920,1080\")\n",
    "driver = webdriver.Chrome(options=options)\n",
    "\n",
    "# Get user input\n",
    "keyword = input(\"Enter product search keyword: \").replace(\" \", \"+\")\n",
    "base_url = f\"https://www.flipkart.com/search?q={keyword}\"\n",
    "\n",
    "# Empty lists to store data\n",
    "product_names = []\n",
    "prices = []\n",
    "ratings = []\n",
    "\n",
    "# Scrape first 3 pages\n",
    "for page in range(1, 4):\n",
    "    url = f\"{base_url}&page={page}\"\n",
    "    print(f\"Scraping Page {page}...\")\n",
    "    driver.get(url)\n",
    "    time.sleep(4)\n",
    "\n",
    "    soup = BeautifulSoup(driver.page_source, 'html.parser')\n",
    "\n",
    "    # Select correct product containers for laptops & electronics\n",
    "    product_blocks = soup.find_all(\"div\", class_=\"_1AtVbE col-12-12\")\n",
    "\n",
    "    for block in product_blocks:\n",
    "        title = block.find(\"div\", class_=\"_4rR01T\")\n",
    "        if not title:\n",
    "            continue  # skip non-product blocks\n",
    "\n",
    "        price = block.find(\"div\", class_=\"_30jeq3 _1_WHN1\")\n",
    "        rating = block.find(\"div\", class_=\"_3LWZlK\")\n",
    "\n",
    "        if title and price:\n",
    "            product_names.append(title.text.strip())\n",
    "            prices.append(price.text.strip().replace(\"₹\", \"\").replace(\",\", \"\"))\n",
    "            ratings.append(rating.text.strip() if rating else \"N/A\")\n",
    "\n",
    "# Close browser\n",
    "driver.quit()\n",
    "\n",
    "# Create DataFrame\n",
    "df = pd.DataFrame({\n",
    "    \"Product Name\": product_names,\n",
    "    \"Price (INR)\": prices,\n",
    "    \"Rating\": ratings\n",
    "})\n",
    "\n",
    "# Print and Save\n",
    "print(\"\\n✅ Scraped Data:\\n\")\n",
    "print(df)\n",
    "\n",
    "df.to_csv(\"flipkart_products.csv\", index=False)\n",
    "print(\"\\n✅ Data saved to 'flipkart_products.csv'\")\n"
   ]
  },
  {
   "cell_type": "code",
   "execution_count": null,
   "id": "3dddc492-0efa-4d35-a91b-eb599d35efef",
   "metadata": {},
   "outputs": [],
   "source": []
  }
 ],
 "metadata": {
  "kernelspec": {
   "display_name": "Python 3 (ipykernel)",
   "language": "python",
   "name": "python3"
  },
  "language_info": {
   "codemirror_mode": {
    "name": "ipython",
    "version": 3
   },
   "file_extension": ".py",
   "mimetype": "text/x-python",
   "name": "python",
   "nbconvert_exporter": "python",
   "pygments_lexer": "ipython3",
   "version": "3.13.5"
  }
 },
 "nbformat": 4,
 "nbformat_minor": 5
}
